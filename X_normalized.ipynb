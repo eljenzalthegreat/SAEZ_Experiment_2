{
 "cells": [
  {
   "cell_type": "markdown",
   "id": "454565cf-4942-4455-b491-b73110ae97d6",
   "metadata": {},
   "source": [
    "SAEZ, ELJENZAL HOPER U."
   ]
  },
  {
   "cell_type": "markdown",
   "id": "4db180d6-68de-4ccc-a3cc-7ef7abe2cb9d",
   "metadata": {},
   "source": [
    "2ECE - C"
   ]
  },
  {
   "cell_type": "markdown",
   "id": "167512e7-4e61-4b9a-be6b-27bad31d8257",
   "metadata": {},
   "source": [
    "NORMALIZATION PROBLEM"
   ]
  },
  {
   "cell_type": "code",
   "execution_count": 21,
   "id": "61859efa-9387-4f7f-90a3-346e48bdfdd5",
   "metadata": {},
   "outputs": [
    {
     "name": "stdout",
     "output_type": "stream",
     "text": [
      "Original Array:\n",
      " [[0.37751438 0.4417757  0.63063672 0.60842442 0.97947423]\n",
      " [0.98368203 0.68235031 0.4061651  0.55844523 0.33358684]\n",
      " [0.63741737 0.09368735 0.96943388 0.56502973 0.4728166 ]\n",
      " [0.53936713 0.42864231 0.8157734  0.76703774 0.42130252]\n",
      " [0.49592956 0.63767762 0.51131936 0.28629485 0.01059552]]\n",
      "Normalized Array:\n",
      " [[-0.70560771 -0.43676467  0.35335238  0.26042522  1.81274553]\n",
      " [ 1.83034922  0.56970084 -0.58574484  0.05133279 -0.88938254]\n",
      " [ 0.38171984 -1.89302366  1.77074081  0.07887965 -0.30690227]\n",
      " [-0.02848214 -0.49170942  1.12788835  0.92399834 -0.52241607]\n",
      " [-0.21020715  0.38280864 -0.14582253 -1.08723281 -2.24064581]]\n"
     ]
    }
   ],
   "source": [
    "import numpy as np\n",
    "\n",
    "# creating a random 5x5 ndarray\n",
    "X = np.random.rand(5, 5)\n",
    "\n",
    "# calculate the mean and standard deviation\n",
    "mean = X.mean()\n",
    "std_dev = X.std()\n",
    "\n",
    "# normalize the array using the given formula\n",
    "X_normalized = (X - mean) / std_dev\n",
    "\n",
    "# save the normalized array to a file\n",
    "np.save('X_normalized.npy', X_normalized)\n",
    "\n",
    "# print the results\n",
    "print(\"Original Array:\\n\", X)\n",
    "print(\"Normalized Array:\\n\", X_normalized)"
   ]
  },
  {
   "cell_type": "code",
   "execution_count": null,
   "id": "f6f624b3-061e-4bcf-962f-1c448dd1dcbf",
   "metadata": {},
   "outputs": [],
   "source": []
  }
 ],
 "metadata": {
  "kernelspec": {
   "display_name": "Python 3 (ipykernel)",
   "language": "python",
   "name": "python3"
  },
  "language_info": {
   "codemirror_mode": {
    "name": "ipython",
    "version": 3
   },
   "file_extension": ".py",
   "mimetype": "text/x-python",
   "name": "python",
   "nbconvert_exporter": "python",
   "pygments_lexer": "ipython3",
   "version": "3.12.4"
  }
 },
 "nbformat": 4,
 "nbformat_minor": 5
}
