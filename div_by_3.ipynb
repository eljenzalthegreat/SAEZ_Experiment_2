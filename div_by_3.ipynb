{
 "cells": [
  {
   "cell_type": "markdown",
   "id": "605d2cc3-f670-464c-948b-8bfb87926628",
   "metadata": {},
   "source": [
    "SAEZ, ELJENZAL HOPER U."
   ]
  },
  {
   "cell_type": "markdown",
   "id": "ffced1c0-b475-424d-9541-26de4c184c0a",
   "metadata": {},
   "source": [
    "2ECE - C"
   ]
  },
  {
   "cell_type": "markdown",
   "id": "72ef8d1f-6d7d-4340-a400-76d6da111ea0",
   "metadata": {},
   "source": [
    "DIVISION BY 3 PROBLEM"
   ]
  },
  {
   "cell_type": "code",
   "execution_count": 10,
   "id": "970780ef-e44f-45dd-9c5f-7ddecb6ce9ec",
   "metadata": {},
   "outputs": [
    {
     "name": "stdout",
     "output_type": "stream",
     "text": [
      "Original Array:\n",
      " [[    1     4     9    16    25    36    49    64    81   100]\n",
      " [  121   144   169   196   225   256   289   324   361   400]\n",
      " [  441   484   529   576   625   676   729   784   841   900]\n",
      " [  961  1024  1089  1156  1225  1296  1369  1444  1521  1600]\n",
      " [ 1681  1764  1849  1936  2025  2116  2209  2304  2401  2500]\n",
      " [ 2601  2704  2809  2916  3025  3136  3249  3364  3481  3600]\n",
      " [ 3721  3844  3969  4096  4225  4356  4489  4624  4761  4900]\n",
      " [ 5041  5184  5329  5476  5625  5776  5929  6084  6241  6400]\n",
      " [ 6561  6724  6889  7056  7225  7396  7569  7744  7921  8100]\n",
      " [ 8281  8464  8649  8836  9025  9216  9409  9604  9801 10000]]\n",
      "Elements Divisible by 3:\n",
      " [   9   36   81  144  225  324  441  576  729  900 1089 1296 1521 1764\n",
      " 2025 2304 2601 2916 3249 3600 3969 4356 4761 5184 5625 6084 6561 7056\n",
      " 7569 8100 8649 9216 9801]\n"
     ]
    }
   ],
   "source": [
    "import numpy as np\n",
    "\n",
    "# creating a 10x10 ndarray na may squares ng first 100 positive integers\n",
    "X = np.arange(1, 101).reshape(10, 10) ** 2\n",
    "\n",
    "# find kung anong elements yung divisible by 3\n",
    "div_by_3 = X[X % 3 == 0]\n",
    "\n",
    "# saving the result\n",
    "np.save('div_by_3.npy', div_by_3)\n",
    "\n",
    "# print the results\n",
    "print(\"Original Array:\\n\", X)\n",
    "print(\"Elements Divisible by 3:\\n\", div_by_3)"
   ]
  },
  {
   "cell_type": "code",
   "execution_count": null,
   "id": "49fa12e1-1979-44f8-b520-dd22c9b6931b",
   "metadata": {},
   "outputs": [],
   "source": []
  }
 ],
 "metadata": {
  "kernelspec": {
   "display_name": "Python 3 (ipykernel)",
   "language": "python",
   "name": "python3"
  },
  "language_info": {
   "codemirror_mode": {
    "name": "ipython",
    "version": 3
   },
   "file_extension": ".py",
   "mimetype": "text/x-python",
   "name": "python",
   "nbconvert_exporter": "python",
   "pygments_lexer": "ipython3",
   "version": "3.12.4"
  }
 },
 "nbformat": 4,
 "nbformat_minor": 5
}
